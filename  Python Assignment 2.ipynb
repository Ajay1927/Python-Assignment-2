{
 "cells": [
  {
   "cell_type": "markdown",
   "id": "82581d30",
   "metadata": {},
   "source": [
    "# Python Assignment 2"
   ]
  },
  {
   "cell_type": "markdown",
   "id": "4dd99a02",
   "metadata": {},
   "source": [
    "# Problem 1"
   ]
  },
  {
   "cell_type": "code",
   "execution_count": 1,
   "id": "40206102",
   "metadata": {},
   "outputs": [
    {
     "name": "stdout",
     "output_type": "stream",
     "text": [
      "Enter the number : 5\n",
      "*  \n",
      "* *  \n",
      "* * *  \n",
      "* * * *  \n",
      "* * * * *  \n",
      "* * * *  \n",
      "* * *  \n",
      "* *  \n",
      "*  \n",
      " \n"
     ]
    }
   ],
   "source": [
    "n = int(input(\"Enter the number : \")  )\n",
    "  \n",
    "\n",
    "for i in range(0, n):  \n",
    "    for j in range(0, i + 1):  \n",
    "        print(\"*\", end=' ')  \n",
    "  \n",
    "    print(\" \") \n",
    "    \n",
    "for i in range(n, 0, -1):  \n",
    "    for j in range(0, i - 1):  \n",
    "        print(\"*\", end=' ') \n",
    "        \n",
    "    print(\" \")  \n",
    "\n",
    "    \n",
    "    "
   ]
  },
  {
   "cell_type": "markdown",
   "id": "94b0b917",
   "metadata": {},
   "source": [
    "# Problem 2:\n",
    "# reverese a word after taking input"
   ]
  },
  {
   "cell_type": "code",
   "execution_count": null,
   "id": "10cf2efd",
   "metadata": {},
   "outputs": [],
   "source": [
    "a= input(\"Enter a word or sentence: \")\n",
    "reverse  = a[::-1]\n",
    "reverse"
   ]
  },
  {
   "cell_type": "code",
   "execution_count": null,
   "id": "998fd031",
   "metadata": {},
   "outputs": [],
   "source": []
  }
 ],
 "metadata": {
  "kernelspec": {
   "display_name": "Python 3",
   "language": "python",
   "name": "python3"
  },
  "language_info": {
   "codemirror_mode": {
    "name": "ipython",
    "version": 3
   },
   "file_extension": ".py",
   "mimetype": "text/x-python",
   "name": "python",
   "nbconvert_exporter": "python",
   "pygments_lexer": "ipython3",
   "version": "3.8.8"
  }
 },
 "nbformat": 4,
 "nbformat_minor": 5
}
